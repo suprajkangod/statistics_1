{
 "cells": [
  {
   "cell_type": "code",
   "execution_count": 1,
   "id": "4e6809be",
   "metadata": {},
   "outputs": [],
   "source": [
    "import numpy as np\n",
    "import pandas as pd\n",
    "import matplotlib.pyplot as plt\n",
    "import seaborn as sns\n",
    "import scipy.stats as st"
   ]
  },
  {
   "cell_type": "code",
   "execution_count": 2,
   "id": "3a560f0d",
   "metadata": {},
   "outputs": [
    {
     "data": {
      "text/plain": [
       "-1.9599639845400545"
      ]
     },
     "execution_count": 2,
     "metadata": {},
     "output_type": "execute_result"
    }
   ],
   "source": [
    "## Z alpha by 2 \n",
    "alpha=0.05\n",
    "st.norm.ppf(alpha/2)"
   ]
  },
  {
   "cell_type": "code",
   "execution_count": 3,
   "id": "93ff7076",
   "metadata": {},
   "outputs": [
    {
     "data": {
      "text/plain": [
       "1.9599639845400545"
      ]
     },
     "execution_count": 3,
     "metadata": {},
     "output_type": "execute_result"
    }
   ],
   "source": [
    "## Z alpha by 2 \n",
    "alpha=0.05\n",
    "st.norm.isf(alpha/2)"
   ]
  },
  {
   "cell_type": "code",
   "execution_count": 4,
   "id": "0e6adca7",
   "metadata": {},
   "outputs": [
    {
     "data": {
      "text/plain": [
       "0.024999999999999977"
      ]
     },
     "execution_count": 4,
     "metadata": {},
     "output_type": "execute_result"
    }
   ],
   "source": [
    "st.norm.cdf(-1.9599639845400545)"
   ]
  },
  {
   "cell_type": "code",
   "execution_count": 5,
   "id": "f3de9e5a",
   "metadata": {},
   "outputs": [
    {
     "data": {
      "text/plain": [
       "0.024999999999999977"
      ]
     },
     "execution_count": 5,
     "metadata": {},
     "output_type": "execute_result"
    }
   ],
   "source": [
    "st.norm.sf(1.9599639845400545)"
   ]
  },
  {
   "cell_type": "code",
   "execution_count": 6,
   "id": "a7766c20",
   "metadata": {},
   "outputs": [
    {
     "data": {
      "text/plain": [
       "-2.262157162740992"
      ]
     },
     "execution_count": 6,
     "metadata": {},
     "output_type": "execute_result"
    }
   ],
   "source": [
    "## t alpha by 2 for agiven alpha and sample size(n)\n",
    "n=10\n",
    "dof=n-1\n",
    "st.t.ppf(alpha/2,dof)"
   ]
  },
  {
   "cell_type": "code",
   "execution_count": 10,
   "id": "72dc329f",
   "metadata": {},
   "outputs": [
    {
     "data": {
      "text/plain": [
       "-1.962341461133449"
      ]
     },
     "execution_count": 10,
     "metadata": {},
     "output_type": "execute_result"
    }
   ],
   "source": [
    "n=1000\n",
    "dof=n-1\n",
    "st.t.ppf(alpha/2,dof)"
   ]
  },
  {
   "cell_type": "markdown",
   "id": "1555d3b3",
   "metadata": {},
   "source": [
    "Consider the data of grade points for 35 students in a data science course. Select grades of 20 students randomly from the data. Explain all the concepts\n",
    " Grades: [59.1, 65.0, 75.8, 79.2, 95.0, 99.8, 89.1, 65.2, 41.9, 55.2, 94.8, 84.1, 83.2, 74.0, 75.5, 76.2, 79.1, 80.1, \n",
    "          92.1, 74.2, 59.2, 64.0, 75, 78.2, 95.6, 97.8, 89.5, 64.2, 41.8, 57.2, 85, 91.4, 81.8, 74.6, 90]"
   ]
  },
  {
   "cell_type": "code",
   "execution_count": 11,
   "id": "1af84bba",
   "metadata": {},
   "outputs": [],
   "source": [
    "population= [59.1, 65.0, 75.8, 79.2, 95.0, 99.8, 89.1, 65.2, 41.9, 55.2, 94.8, 84.1, 83.2, 74.0, 75.5, 76.2, 79.1, 80.1, \n",
    "          92.1, 74.2, 59.2, 64.0, 75, 78.2, 95.6, 97.8, 89.5, 64.2, 41.8, 57.2, 85, 91.4, 81.8, 74.6, 90]"
   ]
  },
  {
   "cell_type": "code",
   "execution_count": 20,
   "id": "09e5155e",
   "metadata": {},
   "outputs": [
    {
     "data": {
      "text/plain": [
       "76.68285714285715"
      ]
     },
     "execution_count": 20,
     "metadata": {},
     "output_type": "execute_result"
    }
   ],
   "source": [
    "mu =np.mean(population)\n",
    "mu"
   ]
  },
  {
   "cell_type": "code",
   "execution_count": 13,
   "id": "0789ad08",
   "metadata": {},
   "outputs": [],
   "source": [
    "import random"
   ]
  },
  {
   "cell_type": "code",
   "execution_count": 28,
   "id": "36da4bd2",
   "metadata": {},
   "outputs": [
    {
     "data": {
      "text/plain": [
       "[41.9,\n",
       " 95.0,\n",
       " 79.1,\n",
       " 65.2,\n",
       " 76.2,\n",
       " 95.6,\n",
       " 75.5,\n",
       " 85,\n",
       " 59.2,\n",
       " 83.2,\n",
       " 89.1,\n",
       " 79.2,\n",
       " 64.2,\n",
       " 59.1,\n",
       " 97.8,\n",
       " 74.0,\n",
       " 64.0,\n",
       " 41.8,\n",
       " 90,\n",
       " 91.4]"
      ]
     },
     "execution_count": 28,
     "metadata": {},
     "output_type": "execute_result"
    }
   ],
   "source": [
    "# SRS without replacement\n",
    "random.seed(1)\n",
    "s1= random.sample(population, 20)\n",
    "s1"
   ]
  },
  {
   "cell_type": "code",
   "execution_count": 18,
   "id": "6ec90884",
   "metadata": {},
   "outputs": [
    {
     "data": {
      "text/plain": [
       "75.32500000000002"
      ]
     },
     "execution_count": 18,
     "metadata": {},
     "output_type": "execute_result"
    }
   ],
   "source": [
    "point_estimate = np.mean(s1)\n",
    "point_estimate"
   ]
  },
  {
   "cell_type": "code",
   "execution_count": 22,
   "id": "1e809570",
   "metadata": {},
   "outputs": [
    {
     "data": {
      "text/plain": [
       "1.357857142857128"
      ]
     },
     "execution_count": 22,
     "metadata": {},
     "output_type": "execute_result"
    }
   ],
   "source": [
    "samp_eror =abs(mu-point_estimate)\n",
    "samp_eror"
   ]
  },
  {
   "cell_type": "code",
   "execution_count": 29,
   "id": "b10edba1",
   "metadata": {},
   "outputs": [
    {
     "data": {
      "text/plain": [
       "[95.0,\n",
       " 57.2,\n",
       " 89.5,\n",
       " 41.9,\n",
       " 80.1,\n",
       " 76.2,\n",
       " 75,\n",
       " 64.2,\n",
       " 79.2,\n",
       " 59.1,\n",
       " 57.2,\n",
       " 76.2,\n",
       " 89.5,\n",
       " 59.1,\n",
       " 76.2,\n",
       " 97.8,\n",
       " 41.9,\n",
       " 74.6,\n",
       " 91.4,\n",
       " 65.0,\n",
       " 59.1,\n",
       " 92.1,\n",
       " 81.8,\n",
       " 74.0,\n",
       " 65.2,\n",
       " 75.5,\n",
       " 65.0,\n",
       " 65.2,\n",
       " 76.2,\n",
       " 80.1,\n",
       " 41.9,\n",
       " 41.9,\n",
       " 65.2,\n",
       " 79.1,\n",
       " 94.8,\n",
       " 59.1,\n",
       " 57.2,\n",
       " 74.2,\n",
       " 75,\n",
       " 89.1]"
      ]
     },
     "execution_count": 29,
     "metadata": {},
     "output_type": "execute_result"
    }
   ],
   "source": [
    "# SRS with replacement\n",
    "random.seed(1)\n",
    "s2= random.choices(population, k=40)\n",
    "s2"
   ]
  },
  {
   "cell_type": "code",
   "execution_count": 26,
   "id": "b009dab0",
   "metadata": {},
   "outputs": [
    {
     "data": {
      "text/plain": [
       "72.315"
      ]
     },
     "execution_count": 26,
     "metadata": {},
     "output_type": "execute_result"
    }
   ],
   "source": [
    "np.mean(s2)"
   ]
  },
  {
   "cell_type": "code",
   "execution_count": 30,
   "id": "a71d57e9",
   "metadata": {},
   "outputs": [],
   "source": [
    "## Stratified random sampling\n",
    "df= sns.load_dataset('tips')"
   ]
  },
  {
   "cell_type": "code",
   "execution_count": 31,
   "id": "4a6b333f",
   "metadata": {},
   "outputs": [
    {
     "data": {
      "text/html": [
       "<div>\n",
       "<style scoped>\n",
       "    .dataframe tbody tr th:only-of-type {\n",
       "        vertical-align: middle;\n",
       "    }\n",
       "\n",
       "    .dataframe tbody tr th {\n",
       "        vertical-align: top;\n",
       "    }\n",
       "\n",
       "    .dataframe thead th {\n",
       "        text-align: right;\n",
       "    }\n",
       "</style>\n",
       "<table border=\"1\" class=\"dataframe\">\n",
       "  <thead>\n",
       "    <tr style=\"text-align: right;\">\n",
       "      <th></th>\n",
       "      <th>total_bill</th>\n",
       "      <th>tip</th>\n",
       "      <th>sex</th>\n",
       "      <th>smoker</th>\n",
       "      <th>day</th>\n",
       "      <th>time</th>\n",
       "      <th>size</th>\n",
       "    </tr>\n",
       "  </thead>\n",
       "  <tbody>\n",
       "    <tr>\n",
       "      <th>0</th>\n",
       "      <td>16.99</td>\n",
       "      <td>1.01</td>\n",
       "      <td>Female</td>\n",
       "      <td>No</td>\n",
       "      <td>Sun</td>\n",
       "      <td>Dinner</td>\n",
       "      <td>2</td>\n",
       "    </tr>\n",
       "    <tr>\n",
       "      <th>1</th>\n",
       "      <td>10.34</td>\n",
       "      <td>1.66</td>\n",
       "      <td>Male</td>\n",
       "      <td>No</td>\n",
       "      <td>Sun</td>\n",
       "      <td>Dinner</td>\n",
       "      <td>3</td>\n",
       "    </tr>\n",
       "    <tr>\n",
       "      <th>2</th>\n",
       "      <td>21.01</td>\n",
       "      <td>3.50</td>\n",
       "      <td>Male</td>\n",
       "      <td>No</td>\n",
       "      <td>Sun</td>\n",
       "      <td>Dinner</td>\n",
       "      <td>3</td>\n",
       "    </tr>\n",
       "    <tr>\n",
       "      <th>3</th>\n",
       "      <td>23.68</td>\n",
       "      <td>3.31</td>\n",
       "      <td>Male</td>\n",
       "      <td>No</td>\n",
       "      <td>Sun</td>\n",
       "      <td>Dinner</td>\n",
       "      <td>2</td>\n",
       "    </tr>\n",
       "    <tr>\n",
       "      <th>4</th>\n",
       "      <td>24.59</td>\n",
       "      <td>3.61</td>\n",
       "      <td>Female</td>\n",
       "      <td>No</td>\n",
       "      <td>Sun</td>\n",
       "      <td>Dinner</td>\n",
       "      <td>4</td>\n",
       "    </tr>\n",
       "  </tbody>\n",
       "</table>\n",
       "</div>"
      ],
      "text/plain": [
       "   total_bill   tip     sex smoker  day    time  size\n",
       "0       16.99  1.01  Female     No  Sun  Dinner     2\n",
       "1       10.34  1.66    Male     No  Sun  Dinner     3\n",
       "2       21.01  3.50    Male     No  Sun  Dinner     3\n",
       "3       23.68  3.31    Male     No  Sun  Dinner     2\n",
       "4       24.59  3.61  Female     No  Sun  Dinner     4"
      ]
     },
     "execution_count": 31,
     "metadata": {},
     "output_type": "execute_result"
    }
   ],
   "source": [
    "df.head()"
   ]
  },
  {
   "cell_type": "code",
   "execution_count": 34,
   "id": "8011b5c8",
   "metadata": {},
   "outputs": [],
   "source": [
    "y = df.smoker\n",
    "x= df.drop('smoker', axis=1)"
   ]
  },
  {
   "cell_type": "code",
   "execution_count": 33,
   "id": "503d315b",
   "metadata": {},
   "outputs": [],
   "source": [
    "from sklearn.model_selection import train_test_split"
   ]
  },
  {
   "cell_type": "code",
   "execution_count": 35,
   "id": "5409957b",
   "metadata": {},
   "outputs": [
    {
     "data": {
      "text/plain": [
       "No     0.618852\n",
       "Yes    0.381148\n",
       "Name: smoker, dtype: float64"
      ]
     },
     "execution_count": 35,
     "metadata": {},
     "output_type": "execute_result"
    }
   ],
   "source": [
    "df.smoker.value_counts(normalize=True)"
   ]
  },
  {
   "cell_type": "code",
   "execution_count": 37,
   "id": "fb19212e",
   "metadata": {},
   "outputs": [],
   "source": [
    "x_train,x_test,y_train,y_test = train_test_split(x,y, test_size=0.2,stratify=df.smoker)"
   ]
  },
  {
   "cell_type": "code",
   "execution_count": 38,
   "id": "f4c2b367",
   "metadata": {},
   "outputs": [
    {
     "data": {
      "text/plain": [
       "No     0.620513\n",
       "Yes    0.379487\n",
       "Name: smoker, dtype: float64"
      ]
     },
     "execution_count": 38,
     "metadata": {},
     "output_type": "execute_result"
    }
   ],
   "source": [
    "y_train.value_counts(normalize=True)"
   ]
  },
  {
   "cell_type": "code",
   "execution_count": 39,
   "id": "d841b222",
   "metadata": {},
   "outputs": [
    {
     "data": {
      "text/plain": [
       "No     0.612245\n",
       "Yes    0.387755\n",
       "Name: smoker, dtype: float64"
      ]
     },
     "execution_count": 39,
     "metadata": {},
     "output_type": "execute_result"
    }
   ],
   "source": [
    "y_test.value_counts(normalize=True)"
   ]
  },
  {
   "cell_type": "code",
   "execution_count": null,
   "id": "5a8a0f9a",
   "metadata": {},
   "outputs": [],
   "source": [
    "x_train,x_test,y_train,y_test = train_test_split(x,y, test_size=0.2,stratify=df.smoker)"
   ]
  },
  {
   "cell_type": "code",
   "execution_count": 40,
   "id": "bee8e48b",
   "metadata": {},
   "outputs": [
    {
     "data": {
      "text/plain": [
       "(195, 6)"
      ]
     },
     "execution_count": 40,
     "metadata": {},
     "output_type": "execute_result"
    }
   ],
   "source": [
    "x_train.shape"
   ]
  },
  {
   "cell_type": "code",
   "execution_count": 41,
   "id": "7847fc5b",
   "metadata": {},
   "outputs": [
    {
     "data": {
      "text/plain": [
       "(49, 6)"
      ]
     },
     "execution_count": 41,
     "metadata": {},
     "output_type": "execute_result"
    }
   ],
   "source": [
    "x_test.shape"
   ]
  },
  {
   "cell_type": "code",
   "execution_count": 42,
   "id": "c05d9b4b",
   "metadata": {},
   "outputs": [],
   "source": [
    "x1_train,x1_test,y1_train,y1_test = train_test_split(x,y, test_size=0.2)"
   ]
  },
  {
   "cell_type": "code",
   "execution_count": 43,
   "id": "c6a83ee4",
   "metadata": {},
   "outputs": [
    {
     "data": {
      "text/plain": [
       "No     0.630769\n",
       "Yes    0.369231\n",
       "Name: smoker, dtype: float64"
      ]
     },
     "execution_count": 43,
     "metadata": {},
     "output_type": "execute_result"
    }
   ],
   "source": [
    "y1_train.value_counts(normalize=True)"
   ]
  },
  {
   "cell_type": "code",
   "execution_count": 44,
   "id": "f36053b9",
   "metadata": {},
   "outputs": [
    {
     "data": {
      "text/plain": [
       "No     0.571429\n",
       "Yes    0.428571\n",
       "Name: smoker, dtype: float64"
      ]
     },
     "execution_count": 44,
     "metadata": {},
     "output_type": "execute_result"
    }
   ],
   "source": [
    "y1_test.value_counts(normalize=True)"
   ]
  },
  {
   "cell_type": "markdown",
   "id": "5372285b",
   "metadata": {},
   "source": [
    "## POINT ESTIMATE for Population Proportion"
   ]
  },
  {
   "cell_type": "markdown",
   "id": "26b95acf",
   "metadata": {},
   "source": [
    "A financial firm has created 50 portfolios. From them, a sample of 13 portfolios was selected, out of which 8 were found to be underperforming. Can you estimate the number of underperforming portfolios?"
   ]
  },
  {
   "cell_type": "code",
   "execution_count": 48,
   "id": "5ba6b407",
   "metadata": {},
   "outputs": [
    {
     "data": {
      "text/plain": [
       "31.0"
      ]
     },
     "execution_count": 48,
     "metadata": {},
     "output_type": "execute_result"
    }
   ],
   "source": [
    "x= 8\n",
    "n=13\n",
    "p=x/n\n",
    "N=50\n",
    "estimate =round(N*p,0)\n",
    "estimate"
   ]
  },
  {
   "cell_type": "markdown",
   "id": "54f26105",
   "metadata": {},
   "source": [
    "## INTERVAL ESTIMATE for population proportion"
   ]
  },
  {
   "cell_type": "markdown",
   "id": "39e74c25",
   "metadata": {},
   "source": [
    "A financial firm has created 50 portfolios. From them, a sample of 13 portfolios was selected, out of which 8 were found to be underperforming. Can you estimate confidence interval for the number of underperforming portfolios@ confidence level of 95%?"
   ]
  },
  {
   "cell_type": "code",
   "execution_count": 60,
   "id": "d684fc4d",
   "metadata": {},
   "outputs": [
    {
     "name": "stdout",
     "output_type": "stream",
     "text": [
      "18.0 44.0\n"
     ]
    }
   ],
   "source": [
    "alpha=0.05\n",
    "x= 8\n",
    "n=13\n",
    "p=x/n\n",
    "N=50\n",
    "q=1-p\n",
    "serror= np.sqrt(p*q/n)\n",
    "zalphaby2= st.norm.isf(alpha/2)\n",
    "lower_conf_limit= p-(zalphaby2*serror)\n",
    "upper_conf_limit= p+(zalphaby2*serror)\n",
    "print(round(lower_conf_limit*N,0),round(upper_conf_limit*N,0))\n",
    "                     "
   ]
  },
  {
   "cell_type": "code",
   "execution_count": 57,
   "id": "040056ff",
   "metadata": {},
   "outputs": [],
   "source": [
    "lcl, ucl = st.norm.interval(1-alpha, p, np.sqrt(p*q/n))"
   ]
  },
  {
   "cell_type": "code",
   "execution_count": 58,
   "id": "4b1490ff",
   "metadata": {},
   "outputs": [
    {
     "name": "stdout",
     "output_type": "stream",
     "text": [
      "18.0 44.0\n"
     ]
    }
   ],
   "source": [
    "print(round(lcl*N,0),round(ucl*N,0))"
   ]
  },
  {
   "cell_type": "markdown",
   "id": "5d00cf7a",
   "metadata": {},
   "source": [
    "## INTERVAL ESTIMATE for population mean"
   ]
  },
  {
   "cell_type": "markdown",
   "id": "18758ff1",
   "metadata": {},
   "source": [
    "A random sample of weight (in kg.) for 35 diabetic patients is drawn from the population with a standard deviation of 8 kg. Find the 90%,95%,99% confidence interval for the population mean.\n",
    "\n",
    "    Weight: [59.1, 65.0, 75.8, 79.2, 95.0, 99.8, 89.1, 65.3, 41.9, 55.2, 94.8, 84.1, 83.2, 74.0, 75.5, 76.2, 79.1, 80.1, \n",
    "             92.1, 74.2, 59.2, 64.0, 75, 78.2, 95.6, 97.8, 89.5, 64.2, 41.8, 57.2, 85, 91.4, 81.8, 74.6, 90]"
   ]
  },
  {
   "cell_type": "code",
   "execution_count": 61,
   "id": "74bef965",
   "metadata": {},
   "outputs": [],
   "source": [
    "Weight=[59.1, 65.0, 75.8, 79.2, 95.0, 99.8, 89.1, 65.3, 41.9, 55.2, 94.8, 84.1, 83.2, 74.0, 75.5, 76.2, 79.1, 80.1, \n",
    "             92.1, 74.2, 59.2, 64.0, 75, 78.2, 95.6, 97.8, 89.5, 64.2, 41.8, 57.2, 85, 91.4, 81.8, 74.6, 90]"
   ]
  },
  {
   "cell_type": "code",
   "execution_count": 65,
   "id": "d7092577",
   "metadata": {},
   "outputs": [],
   "source": [
    "xbar = np.mean(Weight)\n",
    "sigma=8\n",
    "n=35\n",
    "alpha1=0.1\n",
    "alpha2=0.05\n",
    "alpha3=0.01\n",
    "se= sigma/np.sqrt(n)\n",
    "zalpha1by2=st.norm.isf(alpha1/2)\n",
    "zalpha2by2=st.norm.isf(alpha2/2)\n",
    "zalpha3by2=st.norm.isf(alpha3/2)\n",
    "me1=zalpha1by2*se\n",
    "me2=zalpha2by2*se\n",
    "me3=zalpha3by2*se\n"
   ]
  },
  {
   "cell_type": "code",
   "execution_count": 66,
   "id": "29029f10",
   "metadata": {},
   "outputs": [
    {
     "name": "stdout",
     "output_type": "stream",
     "text": [
      "74.46146621975642 78.90996235167215\n"
     ]
    }
   ],
   "source": [
    "## 90% confidence interval\n",
    "lcl=xbar-me1\n",
    "ucl= xbar+me1\n",
    "print(lcl, ucl)"
   ]
  },
  {
   "cell_type": "code",
   "execution_count": 67,
   "id": "9311d332",
   "metadata": {},
   "outputs": [
    {
     "name": "stdout",
     "output_type": "stream",
     "text": [
      "74.03535924467639 79.33606932675218\n"
     ]
    }
   ],
   "source": [
    "## 95% confidence interval\n",
    "lcl=xbar-me2\n",
    "ucl= xbar+me2\n",
    "print(lcl, ucl)"
   ]
  },
  {
   "cell_type": "code",
   "execution_count": 68,
   "id": "7fedf2ff",
   "metadata": {},
   "outputs": [
    {
     "name": "stdout",
     "output_type": "stream",
     "text": [
      "73.20255733315629 80.16887123827227\n"
     ]
    }
   ],
   "source": [
    "## 99% confidence interval\n",
    "lcl=xbar-me3\n",
    "ucl= xbar+me3\n",
    "print(lcl, ucl)"
   ]
  },
  {
   "cell_type": "code",
   "execution_count": 69,
   "id": "f70f6881",
   "metadata": {},
   "outputs": [
    {
     "data": {
      "text/plain": [
       "(73.20255733315629, 80.16887123827227)"
      ]
     },
     "execution_count": 69,
     "metadata": {},
     "output_type": "execute_result"
    }
   ],
   "source": [
    "st.norm.interval(1-alpha3, xbar,se)"
   ]
  },
  {
   "cell_type": "markdown",
   "id": "f757f725",
   "metadata": {},
   "source": [
    "There are 150 apples on a tree. You randomly choose 40 apples and found that the average weight of apples is 182 grams with a standard deviation of 30 grams. Find the 95% confidence interval for the population mean."
   ]
  },
  {
   "cell_type": "code",
   "execution_count": 72,
   "id": "7807e01b",
   "metadata": {},
   "outputs": [
    {
     "data": {
      "text/plain": [
       "(172.40553457459347, 191.59446542540653)"
      ]
     },
     "execution_count": 72,
     "metadata": {},
     "output_type": "execute_result"
    }
   ],
   "source": [
    "st.t.interval(0.95,39,182,30/np.sqrt(40))"
   ]
  },
  {
   "cell_type": "code",
   "execution_count": 70,
   "id": "72178d23",
   "metadata": {},
   "outputs": [
    {
     "name": "stdout",
     "output_type": "stream",
     "text": [
      "172.40553457459347 191.59446542540653\n"
     ]
    }
   ],
   "source": [
    "xbar=182\n",
    "s=30\n",
    "n=40\n",
    "dof=n-1\n",
    "se=s/np.sqrt(n)\n",
    "alpha=0.05\n",
    "talpahby2=st.t.isf(alpha/2,dof)\n",
    "me=talpahby2*se\n",
    "lcl=xbar-me\n",
    "ucl=xbar+me\n",
    "print(lcl,ucl)"
   ]
  },
  {
   "cell_type": "code",
   "execution_count": 71,
   "id": "62b8c1ab",
   "metadata": {},
   "outputs": [
    {
     "data": {
      "text/plain": [
       "(172.40553457459347, 191.59446542540653)"
      ]
     },
     "execution_count": 71,
     "metadata": {},
     "output_type": "execute_result"
    }
   ],
   "source": [
    "st.t.interval(1-alpha,dof,xbar,se)"
   ]
  },
  {
   "cell_type": "markdown",
   "id": "e3e878e9",
   "metadata": {},
   "source": [
    "estimate 95% confidence interval for total bill in 'tips dataset?"
   ]
  },
  {
   "cell_type": "code",
   "execution_count": 73,
   "id": "a1a05924",
   "metadata": {},
   "outputs": [
    {
     "data": {
      "text/plain": [
       "(18.663331704358477, 20.90855354154317)"
      ]
     },
     "execution_count": 73,
     "metadata": {},
     "output_type": "execute_result"
    }
   ],
   "source": [
    "st.t.interval(0.95,243,df.total_bill.mean(),df.total_bill.std()/np.sqrt(244))"
   ]
  },
  {
   "cell_type": "code",
   "execution_count": null,
   "id": "fdf8e893",
   "metadata": {},
   "outputs": [],
   "source": [
    "st.norm.interval()"
   ]
  }
 ],
 "metadata": {
  "kernelspec": {
   "display_name": "Python 3 (ipykernel)",
   "language": "python",
   "name": "python3"
  },
  "language_info": {
   "codemirror_mode": {
    "name": "ipython",
    "version": 3
   },
   "file_extension": ".py",
   "mimetype": "text/x-python",
   "name": "python",
   "nbconvert_exporter": "python",
   "pygments_lexer": "ipython3",
   "version": "3.9.13"
  }
 },
 "nbformat": 4,
 "nbformat_minor": 5
}
