{
 "cells": [
  {
   "cell_type": "code",
   "execution_count": 1,
   "id": "a51edc4d",
   "metadata": {},
   "outputs": [],
   "source": [
    "import numpy as np\n",
    "import pandas as pd\n",
    "import matplotlib.pyplot as plt\n",
    "import seaborn as sns\n",
    "import scipy.stats as st"
   ]
  },
  {
   "cell_type": "code",
   "execution_count": 3,
   "id": "fe9d317c",
   "metadata": {},
   "outputs": [],
   "source": [
    "df = sns.load_dataset('tips')"
   ]
  },
  {
   "cell_type": "code",
   "execution_count": 4,
   "id": "01b8530d",
   "metadata": {},
   "outputs": [
    {
     "data": {
      "text/plain": [
       "(244, 7)"
      ]
     },
     "execution_count": 4,
     "metadata": {},
     "output_type": "execute_result"
    }
   ],
   "source": [
    "df.shape"
   ]
  },
  {
   "cell_type": "code",
   "execution_count": 5,
   "id": "a00f7e54",
   "metadata": {},
   "outputs": [
    {
     "data": {
      "text/html": [
       "<div>\n",
       "<style scoped>\n",
       "    .dataframe tbody tr th:only-of-type {\n",
       "        vertical-align: middle;\n",
       "    }\n",
       "\n",
       "    .dataframe tbody tr th {\n",
       "        vertical-align: top;\n",
       "    }\n",
       "\n",
       "    .dataframe thead th {\n",
       "        text-align: right;\n",
       "    }\n",
       "</style>\n",
       "<table border=\"1\" class=\"dataframe\">\n",
       "  <thead>\n",
       "    <tr style=\"text-align: right;\">\n",
       "      <th></th>\n",
       "      <th>total_bill</th>\n",
       "      <th>tip</th>\n",
       "      <th>sex</th>\n",
       "      <th>smoker</th>\n",
       "      <th>day</th>\n",
       "      <th>time</th>\n",
       "      <th>size</th>\n",
       "    </tr>\n",
       "  </thead>\n",
       "  <tbody>\n",
       "    <tr>\n",
       "      <th>0</th>\n",
       "      <td>16.99</td>\n",
       "      <td>1.01</td>\n",
       "      <td>Female</td>\n",
       "      <td>No</td>\n",
       "      <td>Sun</td>\n",
       "      <td>Dinner</td>\n",
       "      <td>2</td>\n",
       "    </tr>\n",
       "    <tr>\n",
       "      <th>1</th>\n",
       "      <td>10.34</td>\n",
       "      <td>1.66</td>\n",
       "      <td>Male</td>\n",
       "      <td>No</td>\n",
       "      <td>Sun</td>\n",
       "      <td>Dinner</td>\n",
       "      <td>3</td>\n",
       "    </tr>\n",
       "    <tr>\n",
       "      <th>2</th>\n",
       "      <td>21.01</td>\n",
       "      <td>3.50</td>\n",
       "      <td>Male</td>\n",
       "      <td>No</td>\n",
       "      <td>Sun</td>\n",
       "      <td>Dinner</td>\n",
       "      <td>3</td>\n",
       "    </tr>\n",
       "    <tr>\n",
       "      <th>3</th>\n",
       "      <td>23.68</td>\n",
       "      <td>3.31</td>\n",
       "      <td>Male</td>\n",
       "      <td>No</td>\n",
       "      <td>Sun</td>\n",
       "      <td>Dinner</td>\n",
       "      <td>2</td>\n",
       "    </tr>\n",
       "    <tr>\n",
       "      <th>4</th>\n",
       "      <td>24.59</td>\n",
       "      <td>3.61</td>\n",
       "      <td>Female</td>\n",
       "      <td>No</td>\n",
       "      <td>Sun</td>\n",
       "      <td>Dinner</td>\n",
       "      <td>4</td>\n",
       "    </tr>\n",
       "  </tbody>\n",
       "</table>\n",
       "</div>"
      ],
      "text/plain": [
       "   total_bill   tip     sex smoker  day    time  size\n",
       "0       16.99  1.01  Female     No  Sun  Dinner     2\n",
       "1       10.34  1.66    Male     No  Sun  Dinner     3\n",
       "2       21.01  3.50    Male     No  Sun  Dinner     3\n",
       "3       23.68  3.31    Male     No  Sun  Dinner     2\n",
       "4       24.59  3.61  Female     No  Sun  Dinner     4"
      ]
     },
     "execution_count": 5,
     "metadata": {},
     "output_type": "execute_result"
    }
   ],
   "source": [
    "df.head()"
   ]
  },
  {
   "cell_type": "code",
   "execution_count": 7,
   "id": "d58af45b",
   "metadata": {},
   "outputs": [
    {
     "data": {
      "text/html": [
       "<div>\n",
       "<style scoped>\n",
       "    .dataframe tbody tr th:only-of-type {\n",
       "        vertical-align: middle;\n",
       "    }\n",
       "\n",
       "    .dataframe tbody tr th {\n",
       "        vertical-align: top;\n",
       "    }\n",
       "\n",
       "    .dataframe thead th {\n",
       "        text-align: right;\n",
       "    }\n",
       "</style>\n",
       "<table border=\"1\" class=\"dataframe\">\n",
       "  <thead>\n",
       "    <tr style=\"text-align: right;\">\n",
       "      <th></th>\n",
       "      <th>count</th>\n",
       "      <th>mean</th>\n",
       "      <th>std</th>\n",
       "      <th>min</th>\n",
       "      <th>25%</th>\n",
       "      <th>50%</th>\n",
       "      <th>75%</th>\n",
       "      <th>max</th>\n",
       "    </tr>\n",
       "  </thead>\n",
       "  <tbody>\n",
       "    <tr>\n",
       "      <th>total_bill</th>\n",
       "      <td>244.0</td>\n",
       "      <td>19.785943</td>\n",
       "      <td>8.902412</td>\n",
       "      <td>3.07</td>\n",
       "      <td>13.3475</td>\n",
       "      <td>17.795</td>\n",
       "      <td>24.1275</td>\n",
       "      <td>50.81</td>\n",
       "    </tr>\n",
       "    <tr>\n",
       "      <th>tip</th>\n",
       "      <td>244.0</td>\n",
       "      <td>2.998279</td>\n",
       "      <td>1.383638</td>\n",
       "      <td>1.00</td>\n",
       "      <td>2.0000</td>\n",
       "      <td>2.900</td>\n",
       "      <td>3.5625</td>\n",
       "      <td>10.00</td>\n",
       "    </tr>\n",
       "    <tr>\n",
       "      <th>size</th>\n",
       "      <td>244.0</td>\n",
       "      <td>2.569672</td>\n",
       "      <td>0.951100</td>\n",
       "      <td>1.00</td>\n",
       "      <td>2.0000</td>\n",
       "      <td>2.000</td>\n",
       "      <td>3.0000</td>\n",
       "      <td>6.00</td>\n",
       "    </tr>\n",
       "  </tbody>\n",
       "</table>\n",
       "</div>"
      ],
      "text/plain": [
       "            count       mean       std   min      25%     50%      75%    max\n",
       "total_bill  244.0  19.785943  8.902412  3.07  13.3475  17.795  24.1275  50.81\n",
       "tip         244.0   2.998279  1.383638  1.00   2.0000   2.900   3.5625  10.00\n",
       "size        244.0   2.569672  0.951100  1.00   2.0000   2.000   3.0000   6.00"
      ]
     },
     "execution_count": 7,
     "metadata": {},
     "output_type": "execute_result"
    }
   ],
   "source": [
    "df.describe().T"
   ]
  },
  {
   "cell_type": "markdown",
   "id": "9e4a6a4e",
   "metadata": {},
   "source": [
    "test the claim that the average total bill is 20?"
   ]
  },
  {
   "cell_type": "markdown",
   "id": "6621c84c",
   "metadata": {},
   "source": [
    "S1: H0: mu_total bill =20\n",
    "\n",
    "    H1: mu_total bill !=20\n",
    "    "
   ]
  },
  {
   "cell_type": "code",
   "execution_count": 8,
   "id": "b44f36ea",
   "metadata": {},
   "outputs": [],
   "source": [
    "## S2: state alpha\n",
    "alpha = 0.05"
   ]
  },
  {
   "cell_type": "code",
   "execution_count": 30,
   "id": "7f3a75e7",
   "metadata": {},
   "outputs": [
    {
     "name": "stdout",
     "output_type": "stream",
     "text": [
      "0.37559294451918884 1.9697743954258797\n"
     ]
    }
   ],
   "source": [
    "## S3: one sample  t test ( test of mean)\n",
    "## test statistic = (xbar -mu)/ s/ sqrt(n)\n",
    "xbar = df.total_bill.mean()\n",
    "mu= 20\n",
    "s= df.total_bill.std()\n",
    "n= len(df.total_bill)\n",
    "std_error= s/ np.sqrt(n)\n",
    "t_stat= (xbar-mu)/std_error\n",
    "t_crit = st.t.ppf(alpha/2, n-1)\n",
    "print(abs(t_stat), abs(t_crit))\n"
   ]
  },
  {
   "cell_type": "markdown",
   "id": "cc979f27",
   "metadata": {},
   "source": [
    "Decision rule : CVA : if abs( test stat) < abs( critical value) --> acccept H0\n",
    "                      else reject H0\n",
    "                      \n",
    "Inference : based on CVA , since abs ( test stat) < abs( critical) --> accept H0; \n",
    "which means the sample belongs to the population whose mena =20 \n",
    " or \n",
    " we can conclude that the population avergae is 20 "
   ]
  },
  {
   "cell_type": "code",
   "execution_count": 31,
   "id": "3ce41203",
   "metadata": {},
   "outputs": [
    {
     "data": {
      "text/plain": [
       "(18.663331704358477, 20.90855354154317)"
      ]
     },
     "execution_count": 31,
     "metadata": {},
     "output_type": "execute_result"
    }
   ],
   "source": [
    "st.t.interval(1-alpha, n-1,  xbar, std_error)"
   ]
  },
  {
   "cell_type": "code",
   "execution_count": 32,
   "id": "1e2bef02",
   "metadata": {},
   "outputs": [
    {
     "name": "stdout",
     "output_type": "stream",
     "text": [
      "0.05 0.7075471935626767\n"
     ]
    }
   ],
   "source": [
    "## PVA: if p value >= alpha --> accept H0; else reject H0;\n",
    "p_value= st.t.cdf(t_stat, n-1)*2\n",
    "print( alpha, p_value)"
   ]
  },
  {
   "cell_type": "markdown",
   "id": "9c21e3b1",
   "metadata": {},
   "source": [
    "Inference : based on PVA , since p value  > alpha --> accept H0; \n",
    "which means the sample belongs to the population whose mean =20 \n",
    " or \n",
    " we can conclude that the population avergae is 20 "
   ]
  },
  {
   "cell_type": "markdown",
   "id": "eaf6ec8e",
   "metadata": {},
   "source": [
    "Confidence Interval Approach ( CIA) : since population mean lies b/w confidence limits ---> accept H0.\n",
    "\n",
    "which means the sample belongs to the population whose mean =20 \n",
    " or \n",
    " we can conclude that the population avergae is 20 "
   ]
  },
  {
   "cell_type": "code",
   "execution_count": 33,
   "id": "f5f90250",
   "metadata": {},
   "outputs": [
    {
     "data": {
      "text/plain": [
       "Ttest_1sampResult(statistic=-0.37559294451919506, pvalue=0.7075471935626723)"
      ]
     },
     "execution_count": 33,
     "metadata": {},
     "output_type": "execute_result"
    }
   ],
   "source": [
    "st.ttest_1samp(df.total_bill, mu)"
   ]
  },
  {
   "cell_type": "markdown",
   "id": "f33e862b",
   "metadata": {},
   "source": [
    "test the claim that the average total bill is atleast 20?\n",
    "\n",
    "H0: mu > =20\n",
    "\n",
    "H1: mu < 20\n"
   ]
  },
  {
   "cell_type": "code",
   "execution_count": 36,
   "id": "c1431e37",
   "metadata": {},
   "outputs": [
    {
     "data": {
      "text/plain": [
       "Ttest_1sampResult(statistic=-0.37559294451919506, pvalue=0.35377359678133613)"
      ]
     },
     "execution_count": 36,
     "metadata": {},
     "output_type": "execute_result"
    }
   ],
   "source": [
    "st.ttest_1samp(df.total_bill, mu, alternative='less')"
   ]
  },
  {
   "cell_type": "markdown",
   "id": "c82a52a0",
   "metadata": {},
   "source": [
    "PVA: since p value(0.35) is > alpha (0.05) --> accept H0\n",
    "\n",
    "hence the calim is true , the avg pop total bill is > =20"
   ]
  },
  {
   "cell_type": "markdown",
   "id": "6addb188",
   "metadata": {},
   "source": [
    "#### Problem Statement: Is the avg total bill same for lunch and dinner , verify @ 1% level of confidence?"
   ]
  },
  {
   "cell_type": "code",
   "execution_count": 37,
   "id": "458315ea",
   "metadata": {},
   "outputs": [
    {
     "data": {
      "text/html": [
       "<div>\n",
       "<style scoped>\n",
       "    .dataframe tbody tr th:only-of-type {\n",
       "        vertical-align: middle;\n",
       "    }\n",
       "\n",
       "    .dataframe tbody tr th {\n",
       "        vertical-align: top;\n",
       "    }\n",
       "\n",
       "    .dataframe thead th {\n",
       "        text-align: right;\n",
       "    }\n",
       "</style>\n",
       "<table border=\"1\" class=\"dataframe\">\n",
       "  <thead>\n",
       "    <tr style=\"text-align: right;\">\n",
       "      <th>time</th>\n",
       "      <th>Lunch</th>\n",
       "      <th>Dinner</th>\n",
       "    </tr>\n",
       "  </thead>\n",
       "  <tbody>\n",
       "    <tr>\n",
       "      <th>count</th>\n",
       "      <td>68.000000</td>\n",
       "      <td>176.000000</td>\n",
       "    </tr>\n",
       "    <tr>\n",
       "      <th>mean</th>\n",
       "      <td>17.168676</td>\n",
       "      <td>20.797159</td>\n",
       "    </tr>\n",
       "    <tr>\n",
       "      <th>std</th>\n",
       "      <td>7.713882</td>\n",
       "      <td>9.142029</td>\n",
       "    </tr>\n",
       "    <tr>\n",
       "      <th>min</th>\n",
       "      <td>7.510000</td>\n",
       "      <td>3.070000</td>\n",
       "    </tr>\n",
       "    <tr>\n",
       "      <th>25%</th>\n",
       "      <td>12.235000</td>\n",
       "      <td>14.437500</td>\n",
       "    </tr>\n",
       "    <tr>\n",
       "      <th>50%</th>\n",
       "      <td>15.965000</td>\n",
       "      <td>18.390000</td>\n",
       "    </tr>\n",
       "    <tr>\n",
       "      <th>75%</th>\n",
       "      <td>19.532500</td>\n",
       "      <td>25.282500</td>\n",
       "    </tr>\n",
       "    <tr>\n",
       "      <th>max</th>\n",
       "      <td>43.110000</td>\n",
       "      <td>50.810000</td>\n",
       "    </tr>\n",
       "  </tbody>\n",
       "</table>\n",
       "</div>"
      ],
      "text/plain": [
       "time       Lunch      Dinner\n",
       "count  68.000000  176.000000\n",
       "mean   17.168676   20.797159\n",
       "std     7.713882    9.142029\n",
       "min     7.510000    3.070000\n",
       "25%    12.235000   14.437500\n",
       "50%    15.965000   18.390000\n",
       "75%    19.532500   25.282500\n",
       "max    43.110000   50.810000"
      ]
     },
     "execution_count": 37,
     "metadata": {},
     "output_type": "execute_result"
    }
   ],
   "source": [
    "df.groupby('time')['total_bill'].describe().T"
   ]
  },
  {
   "cell_type": "code",
   "execution_count": 38,
   "id": "8945f899",
   "metadata": {},
   "outputs": [
    {
     "data": {
      "text/plain": [
       "<AxesSubplot:xlabel='time', ylabel='total_bill'>"
      ]
     },
     "execution_count": 38,
     "metadata": {},
     "output_type": "execute_result"
    },
    {
     "data": {
      "image/png": "[encoded data removed]",
      "text/plain": [
       "<Figure size 640x480 with 1 Axes>"
      ]
     },
     "metadata": {},
     "output_type": "display_data"
    }
   ],
   "source": [
    "sns.boxplot(y=df.total_bill, x=df.time)"
   ]
  },
  {
   "cell_type": "code",
   "execution_count": 39,
   "id": "668c9793",
   "metadata": {},
   "outputs": [
    {
     "data": {
      "text/plain": [
       "time\n",
       "Lunch     AxesSubplot(0.125,0.11;0.775x0.77)\n",
       "Dinner    AxesSubplot(0.125,0.11;0.775x0.77)\n",
       "Name: total_bill, dtype: object"
      ]
     },
     "execution_count": 39,
     "metadata": {},
     "output_type": "execute_result"
    },
    {
     "data": {
      "image/png": "[encoded data removed]",
      "text/plain": [
       "<Figure size 640x480 with 1 Axes>"
      ]
     },
     "metadata": {},
     "output_type": "display_data"
    }
   ],
   "source": [
    "df.groupby('time')['total_bill'].plot(kind='kde')"
   ]
  },
  {
   "cell_type": "markdown",
   "id": "d8cd6844",
   "metadata": {},
   "source": [
    "H0: mu_tt_lunch = mu_tt_dinner\n",
    "\n",
    "H1: mu_tt_lunch != mu_tt_dinner\n",
    "\n"
   ]
  },
  {
   "cell_type": "markdown",
   "id": "eb895120",
   "metadata": {},
   "source": [
    "Test of Normality:  \n",
    "H0:  pop data = Normal\n",
    "\n",
    "H1: pop data != normal\n",
    "\n"
   ]
  },
  {
   "cell_type": "code",
   "execution_count": 41,
   "id": "46e18f7a",
   "metadata": {},
   "outputs": [
    {
     "data": {
      "text/plain": [
       "ShapiroResult(statistic=0.9197186231613159, pvalue=3.3244529351605934e-10)"
      ]
     },
     "execution_count": 41,
     "metadata": {},
     "output_type": "execute_result"
    }
   ],
   "source": [
    "st.shapiro(df.total_bill)"
   ]
  },
  {
   "cell_type": "markdown",
   "id": "b3c4fc8c",
   "metadata": {},
   "source": [
    "test of Normality : since the sample size >30 --> as per CLT it follows normal\n",
    "\n",
    "test of variance Equalty :\n",
    "\n",
    "H0: pop1 var = pop2 var\n",
    "\n",
    "H1: pop1 var != pop2 var\n"
   ]
  },
  {
   "cell_type": "code",
   "execution_count": 42,
   "id": "196d804a",
   "metadata": {},
   "outputs": [],
   "source": [
    "ltt = df[df.time=='Lunch']['total_bill']\n",
    "dtt = df[df.time=='Dinner']['total_bill']"
   ]
  },
  {
   "cell_type": "code",
   "execution_count": 43,
   "id": "a861c55e",
   "metadata": {},
   "outputs": [
    {
     "data": {
      "text/plain": [
       "LeveneResult(statistic=2.6906995489829337, pvalue=0.1022346107726258)"
      ]
     },
     "execution_count": 43,
     "metadata": {},
     "output_type": "execute_result"
    }
   ],
   "source": [
    "## test of variance Equality ( levene test)\n",
    "\n",
    "st.levene(ltt, dtt)"
   ]
  },
  {
   "cell_type": "markdown",
   "id": "f009bff9",
   "metadata": {},
   "source": [
    "since p value > alpha --> accept H0\n",
    "\n",
    "we can conclude that two populations are having same variance"
   ]
  },
  {
   "cell_type": "code",
   "execution_count": 44,
   "id": "ec4dbe6d",
   "metadata": {},
   "outputs": [
    {
     "data": {
      "text/plain": [
       "Ttest_indResult(statistic=-2.8976375218366424, pvalue=0.004104621407595674)"
      ]
     },
     "execution_count": 44,
     "metadata": {},
     "output_type": "execute_result"
    }
   ],
   "source": [
    "st.ttest_ind(ltt,dtt,equal_var=True)"
   ]
  },
  {
   "cell_type": "code",
   "execution_count": 61,
   "id": "9c6e248f",
   "metadata": {},
   "outputs": [
    {
     "data": {
      "text/plain": [
       "8.769944956909498"
      ]
     },
     "execution_count": 61,
     "metadata": {},
     "output_type": "execute_result"
    }
   ],
   "source": [
    "x1bar= ltt.mean()\n",
    "x2bar= dtt.mean()\n",
    "n1= len(ltt)\n",
    "n2= len(dtt)\n",
    "s1= ltt.std(ddof=1)\n",
    "s2= dtt.std(ddof=1)\n",
    "s= np.sqrt(((n1-1)*s1**2+(n2-1)*s2**2)/(n1+n2-2))\n",
    "s"
   ]
  },
  {
   "cell_type": "code",
   "execution_count": 63,
   "id": "1b405f1c",
   "metadata": {},
   "outputs": [
    {
     "data": {
      "text/plain": [
       "-2.8976375218366544"
      ]
     },
     "execution_count": 63,
     "metadata": {},
     "output_type": "execute_result"
    }
   ],
   "source": [
    "t_st = (x1bar-x2bar)/(s*((np.sqrt((1/n1)+(1/n2)))))\n",
    "t_st"
   ]
  },
  {
   "cell_type": "code",
   "execution_count": 64,
   "id": "7196b5cc",
   "metadata": {},
   "outputs": [
    {
     "data": {
      "text/plain": [
       "0.004104621407595523"
      ]
     },
     "execution_count": 64,
     "metadata": {},
     "output_type": "execute_result"
    }
   ],
   "source": [
    "st.t.sf(abs(t_st), n1+n2-2)*2"
   ]
  },
  {
   "cell_type": "markdown",
   "id": "13ac335f",
   "metadata": {},
   "source": [
    "since p value(0.004) is less tha alpha(0.01)--> reject H0; \n",
    "\n",
    "Inference: Hence we can conclude that the lunch and dinner avg total bill is different"
   ]
  },
  {
   "cell_type": "markdown",
   "id": "ab762095",
   "metadata": {},
   "source": [
    "#### Problem Statement: Is the weight reduction succefful? test this with the below data @ 5% "
   ]
  },
  {
   "cell_type": "code",
   "execution_count": 69,
   "id": "2ec26e87",
   "metadata": {},
   "outputs": [],
   "source": [
    "wt_before = np.array([90,100,120,110,99,89,79,117,123,133,111])\n",
    "wt_after= np.array([78,101,116,99,107,90,70,110,112,100,99])"
   ]
  },
  {
   "cell_type": "markdown",
   "id": "358c831e",
   "metadata": {},
   "source": [
    "H0: mu_diff >=0\n",
    "\n",
    "H1: mu_diff < 0"
   ]
  },
  {
   "cell_type": "code",
   "execution_count": 70,
   "id": "12baf927",
   "metadata": {},
   "outputs": [],
   "source": [
    "diff= wt_after-wt_before"
   ]
  },
  {
   "cell_type": "code",
   "execution_count": 80,
   "id": "a5c604df",
   "metadata": {},
   "outputs": [
    {
     "data": {
      "text/plain": [
       "Ttest_relResult(statistic=-2.545976576223273, pvalue=0.014531892447383702)"
      ]
     },
     "execution_count": 80,
     "metadata": {},
     "output_type": "execute_result"
    }
   ],
   "source": [
    "st.ttest_rel(wt_after, wt_before, alternative='less')"
   ]
  },
  {
   "cell_type": "code",
   "execution_count": 81,
   "id": "5da6cffb",
   "metadata": {},
   "outputs": [
    {
     "data": {
      "text/plain": [
       "-2.545976576223273"
      ]
     },
     "execution_count": 81,
     "metadata": {},
     "output_type": "execute_result"
    }
   ],
   "source": [
    "(diff.mean()-0)/(diff.std(ddof=1)/np.sqrt(len(wt_after)))"
   ]
  },
  {
   "cell_type": "code",
   "execution_count": 83,
   "id": "f5fb65c5",
   "metadata": {},
   "outputs": [
    {
     "data": {
      "text/plain": [
       "Ttest_1sampResult(statistic=-2.545976576223273, pvalue=0.014531892447383702)"
      ]
     },
     "execution_count": 83,
     "metadata": {},
     "output_type": "execute_result"
    }
   ],
   "source": [
    "st.ttest_1samp(diff, 0, alternative='less')"
   ]
  },
  {
   "cell_type": "markdown",
   "id": "4961ebe9",
   "metadata": {},
   "source": [
    "Inference: since p value (0.014) < alpha --> reject H0.\n",
    "\n",
    "hence we can say that the weight reduction program is successful."
   ]
  },
  {
   "cell_type": "markdown",
   "id": "1c9ce3e5",
   "metadata": {},
   "source": [
    "#### Problem Statement : is the smoking proportion in the tips data is 40%, test this claim @ 10% level of significance?"
   ]
  },
  {
   "cell_type": "code",
   "execution_count": 84,
   "id": "145c02bd",
   "metadata": {},
   "outputs": [
    {
     "data": {
      "text/plain": [
       "No     0.618852\n",
       "Yes    0.381148\n",
       "Name: smoker, dtype: float64"
      ]
     },
     "execution_count": 84,
     "metadata": {},
     "output_type": "execute_result"
    }
   ],
   "source": [
    "df.smoker.value_counts(normalize=True)"
   ]
  },
  {
   "cell_type": "markdown",
   "id": "b8c07a83",
   "metadata": {},
   "source": [
    "H0: P= 0.4\n",
    "\n",
    "H1: P!=0.4"
   ]
  },
  {
   "cell_type": "code",
   "execution_count": 86,
   "id": "df241b29",
   "metadata": {},
   "outputs": [
    {
     "name": "stdout",
     "output_type": "stream",
     "text": [
      "-0.6063342797464787 0.5442927997925102\n"
     ]
    }
   ],
   "source": [
    "P=0.4\n",
    "p = 0.381148\n",
    "q= 1-p\n",
    "n= len(df.smoker)\n",
    "std_err = np.sqrt(p*q/n)\n",
    "z_stat= (p-P)/std_err\n",
    "p_value= st.norm.cdf(z_stat)*2\n",
    "print(z_stat, p_value)"
   ]
  },
  {
   "cell_type": "code",
   "execution_count": 102,
   "id": "a807dcef",
   "metadata": {},
   "outputs": [],
   "source": [
    "from statsmodels.stats.proportion import proportions_ztest, proportion_confint"
   ]
  },
  {
   "cell_type": "code",
   "execution_count": 88,
   "id": "3bdecd9c",
   "metadata": {},
   "outputs": [
    {
     "data": {
      "text/plain": [
       "No     151\n",
       "Yes     93\n",
       "Name: smoker, dtype: int64"
      ]
     },
     "execution_count": 88,
     "metadata": {},
     "output_type": "execute_result"
    }
   ],
   "source": [
    "df.smoker.value_counts()"
   ]
  },
  {
   "cell_type": "code",
   "execution_count": 101,
   "id": "c6902b6a",
   "metadata": {},
   "outputs": [
    {
     "data": {
      "text/plain": [
       "(-0.6063491832694735, 0.5442829052719291)"
      ]
     },
     "execution_count": 101,
     "metadata": {},
     "output_type": "execute_result"
    }
   ],
   "source": [
    "proportions_ztest(93,244,0.4)"
   ]
  },
  {
   "cell_type": "code",
   "execution_count": 106,
   "id": "a648c0f0",
   "metadata": {},
   "outputs": [
    {
     "data": {
      "text/plain": [
       "(0.33000615835179786, 0.4322889236154152)"
      ]
     },
     "execution_count": 106,
     "metadata": {},
     "output_type": "execute_result"
    }
   ],
   "source": [
    "proportion_confint(93,244,0.1 )"
   ]
  },
  {
   "cell_type": "markdown",
   "id": "d9c14be3",
   "metadata": {},
   "source": [
    "since p value(0.54) > alpha (0.1) ---> accept H0;\n",
    "\n",
    "hence we can conclude that the population  proportion of smoking is 40%"
   ]
  },
  {
   "cell_type": "markdown",
   "id": "caf9277d",
   "metadata": {},
   "source": [
    "Problem Statement: Is the smoking proportion varies with resepect to gender? tets this claim @5% level of significance?"
   ]
  },
  {
   "cell_type": "markdown",
   "id": "2539cfad",
   "metadata": {},
   "source": [
    "H0: smoking_P_male = smoking_P_female \n",
    "\n",
    "H1: smoking_P_male != smoking_P_female "
   ]
  },
  {
   "cell_type": "code",
   "execution_count": 107,
   "id": "5163cf45",
   "metadata": {},
   "outputs": [
    {
     "data": {
      "text/html": [
       "<div>\n",
       "<style scoped>\n",
       "    .dataframe tbody tr th:only-of-type {\n",
       "        vertical-align: middle;\n",
       "    }\n",
       "\n",
       "    .dataframe tbody tr th {\n",
       "        vertical-align: top;\n",
       "    }\n",
       "\n",
       "    .dataframe thead th {\n",
       "        text-align: right;\n",
       "    }\n",
       "</style>\n",
       "<table border=\"1\" class=\"dataframe\">\n",
       "  <thead>\n",
       "    <tr style=\"text-align: right;\">\n",
       "      <th>sex</th>\n",
       "      <th>Male</th>\n",
       "      <th>Female</th>\n",
       "    </tr>\n",
       "    <tr>\n",
       "      <th>smoker</th>\n",
       "      <th></th>\n",
       "      <th></th>\n",
       "    </tr>\n",
       "  </thead>\n",
       "  <tbody>\n",
       "    <tr>\n",
       "      <th>Yes</th>\n",
       "      <td>60</td>\n",
       "      <td>33</td>\n",
       "    </tr>\n",
       "    <tr>\n",
       "      <th>No</th>\n",
       "      <td>97</td>\n",
       "      <td>54</td>\n",
       "    </tr>\n",
       "  </tbody>\n",
       "</table>\n",
       "</div>"
      ],
      "text/plain": [
       "sex     Male  Female\n",
       "smoker              \n",
       "Yes       60      33\n",
       "No        97      54"
      ]
     },
     "execution_count": 107,
     "metadata": {},
     "output_type": "execute_result"
    }
   ],
   "source": [
    "pd.crosstab(df.smoker, df.sex)"
   ]
  },
  {
   "cell_type": "code",
   "execution_count": 108,
   "id": "ef6e8554",
   "metadata": {},
   "outputs": [
    {
     "name": "stdout",
     "output_type": "stream",
     "text": [
      "0.043986572230939734 0.9649151073157315\n"
     ]
    }
   ],
   "source": [
    "x1= 60\n",
    "x2=33\n",
    "n1=157\n",
    "n2=87\n",
    "p1=x1/n1\n",
    "p2=x2/n2\n",
    "p=(x1+x2)/(n1+n2)\n",
    "q=1-p\n",
    "std_err= np.sqrt(p*q*((1/n1)+(1/n2)))\n",
    "z_stat=(p1-p2)/std_err\n",
    "pvalue= st.norm.sf(abs(z_stat))*2\n",
    "print(z_stat, pvalue)\n",
    "                 "
   ]
  },
  {
   "cell_type": "code",
   "execution_count": 109,
   "id": "fcf08830",
   "metadata": {},
   "outputs": [
    {
     "data": {
      "text/plain": [
       "(0.043986572230939734, 0.9649151073157315)"
      ]
     },
     "execution_count": 109,
     "metadata": {},
     "output_type": "execute_result"
    }
   ],
   "source": [
    "proportions_ztest([x1,x2],[n1,n2])"
   ]
  },
  {
   "cell_type": "markdown",
   "id": "66d8f129",
   "metadata": {},
   "source": [
    "Inference: Since p value(0.960 > alpha(0.05) ---> accept H0. \n",
    "\n",
    "hence we can conclude that the smoking proportion does not vary wrt gender."
   ]
  },
  {
   "cell_type": "code",
   "execution_count": null,
   "id": "2af91b26",
   "metadata": {},
   "outputs": [],
   "source": []
  }
 ],
 "metadata": {
  "kernelspec": {
   "display_name": "Python 3 (ipykernel)",
   "language": "python",
   "name": "python3"
  },
  "language_info": {
   "codemirror_mode": {
    "name": "ipython",
    "version": 3
   },
   "file_extension": ".py",
   "mimetype": "text/x-python",
   "name": "python",
   "nbconvert_exporter": "python",
   "pygments_lexer": "ipython3",
   "version": "3.9.13"
  }
 },
 "nbformat": 4,
 "nbformat_minor": 5
}
